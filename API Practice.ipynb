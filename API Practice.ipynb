{
 "cells": [
  {
   "cell_type": "markdown",
   "id": "3e546b61",
   "metadata": {},
   "source": [
    "<p> HW Part 1, imoprt r request with api end point, saving to list</p>\n",
    "#### Getting attributes from the api's end point following the nesting of lists and dics"
   ]
  },
  {
   "cell_type": "code",
   "execution_count": 12,
   "id": "667afc39",
   "metadata": {},
   "outputs": [
    {
     "name": "stdout",
     "output_type": "stream",
     "text": [
      "{'abilities': ['pressure', 'inner-focus'], 'weight': 1980, 'types': 'fire', 'name': 'entei'}\n"
     ]
    }
   ],
   "source": [
    "import requests as r # often requests is imported under the alias r\n",
    "pokemon1 = r.get(\"https://pokeapi.co/api/v2/pokemon/entei\")\n",
    "      \n",
    "if pokemon1.status_code == 200:\n",
    "    my_data = pokemon1.json()\n",
    "    pokemon1 = {}\n",
    "    \n",
    "    list_a = []\n",
    "    for ability in my_data['abilities']:\n",
    "        list_a.append(ability['ability']['name'])\n",
    "        pokemon1['abilities']= list_a\n",
    "\n",
    "    #weight\n",
    "    pokemon1 ['weight']= my_data ['weight']\n",
    "    \n",
    "    #name\n",
    "    for types in my_data ['types']:\n",
    "        pokemon1['types'] = types ['type']['name'] \n",
    "        pokemon1['name'] = my_data['name']\n",
    "        \n",
    "else:\n",
    "    print('Sorry, API call unsuccessful!')\n",
    "\n",
    "    \n",
    "    \n",
    "print(pokemon1)"
   ]
  },
  {
   "cell_type": "code",
   "execution_count": 2,
   "id": "f65a2a5f",
   "metadata": {},
   "outputs": [],
   "source": [
    "#### Took me way past 8pm to figure out the first half and study, couldn't get to second half sorry!\n",
    "####Second part of hw, getting other attributes"
   ]
  },
  {
   "cell_type": "code",
   "execution_count": null,
   "id": "cf66da68",
   "metadata": {},
   "outputs": [],
   "source": [
    "# End goal structure for the basic version of the assignment:\n",
    "\n",
    "# Goal is to make 20 pokemon\n",
    "# Each pokemon is a dictionary\n",
    "pokemon = {\n",
    "    'name': 'insert my name here',\n",
    "    'abilities': ['roar','tailwhip','etc'],\n",
    "    'weight': 45,\n",
    "    'types': []\n",
    "}\n",
    "##################################### the following is sorting your dictionaries\n",
    "\n",
    "\n",
    "# after you make all the individual pokemon\n",
    "# put them in a dictionary of lists based on type\n",
    "my_pokemon = {\n",
    "    'fire':[{},{},{}],\n",
    "    'water': []   \n",
    "}\n",
    "\n",
    "\n",
    "# access a dictionary\n",
    "pokemon['name']\n",
    "# access an object\n",
    "pokemon.name"
   ]
  },
  {
   "cell_type": "code",
   "execution_count": null,
   "id": "6c23b0d8",
   "metadata": {},
   "outputs": [],
   "source": [
    "### Lecture Notes\n",
    "# remember that string concatenation is a thing and/or that f-strings work here"
   ]
  },
  {
   "cell_type": "code",
   "execution_count": null,
   "id": "27352954",
   "metadata": {},
   "outputs": [],
   "source": [
    "import requests as r\n",
    "# Instead of Making a Pokemon Dictionary, I want to make pokemon objects\n",
    "# I want to store those pokemon objects in a dictionary where the key is the pokemon's name\n",
    "# {\n",
    "# 'grovyle' : <pokemon_object for grovyle @ 0x304180sflk31sj>\n",
    "# }\n",
    "# I want to be able to pass a dictionary made from the API call .json() data into the __init__() of Pokemon class\n",
    "# and have the pokemon's attributes be filled out from there\n",
    "\n",
    "# let me lay out my skeleton code\n",
    "# pokemon object is gonna have the same attributes\n",
    "    # name=str, abilities=[], types=[], weight=int\n",
    "# pokemon object methods\n",
    "    # display that prints our pokemon's info nice and pretty prettily? fancy-lookin.\n",
    "\n",
    "# second class pokedex\n",
    "    # 1 attribute - the dictionary of all the pokemon\n",
    "    \n",
    "    # 3 methods\n",
    "        # 1 create pokemon -> take in a list of pokemon names, and fill up our objects/dictionary\n",
    "        # 2 display function - to show all the pokemon\n",
    "        # 3 searching function to display based on the pokemon type asked for\n",
    "        \n",
    "        \n",
    "        \n",
    "        \n",
    "# pokemon objects\n",
    "class Pokemon():\n",
    "    def __init__(self):\n",
    "        pass\n",
    "    def printInfo(self):\n",
    "        pass\n",
    "\n",
    "\n",
    "\n",
    "\n",
    "# pokedex objects\n",
    "class Pokedex():\n",
    "    def __init__(self):\n",
    "        pass\n",
    "    def createPokemon(self):\n",
    "        pass\n",
    "    def showAll(self):\n",
    "        pass\n",
    "    def searchType(self):\n",
    "        pass\n",
    "\n",
    "\n",
    "\n"
   ]
  },
  {
   "cell_type": "code",
   "execution_count": null,
   "id": "30e4a0ef",
   "metadata": {},
   "outputs": [],
   "source": [
    "# Driver Code"
   ]
  },
  {
   "cell_type": "code",
   "execution_count": null,
   "id": "dcb44edb",
   "metadata": {},
   "outputs": [],
   "source": []
  }
 ],
 "metadata": {
  "interpreter": {
   "hash": "aee8b7b246df8f9039afb4144a1f6fd8d2ca17a180786b69acc140d282b71a49"
  },
  "kernelspec": {
   "display_name": "Python 3",
   "language": "python",
   "name": "python3"
  },
  "language_info": {
   "codemirror_mode": {
    "name": "ipython",
    "version": 3
   },
   "file_extension": ".py",
   "mimetype": "text/x-python",
   "name": "python",
   "nbconvert_exporter": "python",
   "pygments_lexer": "ipython3",
   "version": "3.8.8"
  }
 },
 "nbformat": 4,
 "nbformat_minor": 5
}
