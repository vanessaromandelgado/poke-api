{
 "cells": [
  {
   "cell_type": "markdown",
   "id": "581e45cb",
   "metadata": {},
   "source": [
    "# APIs\n",
    "\n",
    "#### What are they and how do we use them\n",
    "\n",
    "<p> API stands for application programming interface - what an API actually does is provide a way for different servers, devices, and applications to send information back and forth in a commonly understood structure. </p>\n",
    "\n",
    "<p> So using an api, we can send data from an application written in one programming language to an application written in another programming language on a different server, and both applications can understand that data. </p>"
   ]
  },
  {
   "cell_type": "markdown",
   "id": "7aed6698",
   "metadata": {},
   "source": [
    "<p> Its kind of like the kitchen in a restaurant -> they take the unprepared food items, chop them up, cook them, and lay them out nicely presented on a plate for the customers to consume as they please. </p>\n",
    "\n",
    "<p> APIs use data formats that can be understood by multiple programming languages -> the most common one we will use is called JSON data (JavaScript Object Notation) </p>"
   ]
  },
  {
   "cell_type": "code",
   "execution_count": 1,
   "id": "2af437b2",
   "metadata": {},
   "outputs": [
    {
     "name": "stdout",
     "output_type": "stream",
     "text": [
      "200\n"
     ]
    }
   ],
   "source": [
    "import requests as r # often requests is imported under the alias r\n",
    "data = r.get(\"https://pokeapi.co/api/v2/pokemon/charmander\")\n",
    "print(data.status_code)"
   ]
  },
  {
   "cell_type": "code",
   "execution_count": 30,
   "id": "8895ffd6",
   "metadata": {},
   "outputs": [
    {
     "name": "stdout",
     "output_type": "stream",
     "text": [
      "blaze\n",
      "solar-power\n"
     ]
    }
   ],
   "source": [
    "# Check Status Code\n",
    "if data.status_code == 200:\n",
    "    my_data = data.json()\n",
    "    for ability in my_data['abilities']:\n",
    "        print(ability['ability']['name'])\n",
    "else:\n",
    "    print('Sorry, API call unsuccessful!')"
   ]
  },
  {
   "cell_type": "code",
   "execution_count": 31,
   "id": "d1460589",
   "metadata": {},
   "outputs": [
    {
     "name": "stdout",
     "output_type": "stream",
     "text": [
      "emerald\n"
     ]
    }
   ],
   "source": [
    "# In-Class Exercise #1\n",
    "# From this API Endpoint: 'https://pokeapi.co/api/v2/pokemon/entei'\n",
    "# Access the string 'emerald' thats located somewhere within game_indices\n",
    "print(my_data['game_indices'][8]['version']['name'])"
   ]
  },
  {
   "cell_type": "code",
   "execution_count": null,
   "id": "fe51d80c",
   "metadata": {},
   "outputs": [],
   "source": [
    "# What are the names of all of the Pokemon games that Entei is in?\n",
    "# I want a list of the names of every game Entei is in.\n",
    "\n",
    "# Well, if I can do it for one piece of the data,\n",
    "\n"
   ]
  },
  {
   "cell_type": "code",
   "execution_count": null,
   "id": "708cbde7",
   "metadata": {},
   "outputs": [],
   "source": [
    "# End goal structure for the basic version of the assignment:\n",
    "\n",
    "# Goal is to make 20 pokemon\n",
    "# Each pokemon is a dictionary\n",
    "pokemon = {\n",
    "    'name': 'insert my name here',\n",
    "    'abilities': ['roar','tailwhip','etc'],\n",
    "    'weight': 45,\n",
    "    'types': []\n",
    "}\n",
    "##################################### the following is sorting your dictionaries\n",
    "\n",
    "\n",
    "# after you make all the individual pokemon\n",
    "# put them in a dictionary of lists based on type\n",
    "my_pokemon = {\n",
    "    'fire':[{},{},{}],\n",
    "    'water': []   \n",
    "}\n",
    "\n",
    "\n",
    "# access a dictionary\n",
    "pokemon['name']\n",
    "# access an object\n",
    "pokemon.name"
   ]
  },
  {
   "cell_type": "code",
   "execution_count": null,
   "id": "c6dccfed",
   "metadata": {},
   "outputs": [],
   "source": [
    "# remember that string concatenation is a thing and/or that f-strings work here"
   ]
  },
  {
   "cell_type": "code",
   "execution_count": null,
   "id": "de164c67",
   "metadata": {},
   "outputs": [],
   "source": [
    "import requests as r\n",
    "# Instead of Making a Pokemon Dictionary, I want to make pokemon objects\n",
    "# I want to store those pokemon objects in a dictionary where the key is the pokemon's name\n",
    "# {\n",
    "# 'grovyle' : <pokemon_object for grovyle @ 0x304180sflk31sj>\n",
    "# }\n",
    "# I want to be able to pass a dictionary made from the API call .json() data into the __init__() of Pokemon class\n",
    "# and have the pokemon's attributes be filled out from there\n",
    "\n",
    "# let me lay out my skeleton code\n",
    "# pokemon object is gonna have the same attributes\n",
    "    # name=str, abilities=[], types=[], weight=int\n",
    "# pokemon object methods\n",
    "    # display that prints our pokemon's info nice and pretty prettily? fancy-lookin.\n",
    "\n",
    "# second class pokedex\n",
    "    # 1 attribute - the dictionary of all the pokemon\n",
    "    \n",
    "    # 3 methods\n",
    "        # 1 create pokemon -> take in a list of pokemon names, and fill up our objects/dictionary\n",
    "        # 2 display function - to show all the pokemon\n",
    "        # 3 searching function to display based on the pokemon type asked for\n",
    "        \n",
    "        \n",
    "        \n",
    "        \n",
    "# pokemon objects\n",
    "class Pokemon():\n",
    "    def __init__(self):\n",
    "        pass\n",
    "    def printInfo(self):\n",
    "        pass\n",
    "\n",
    "\n",
    "\n",
    "\n",
    "# pokedex objects\n",
    "class Pokedex():\n",
    "    def __init__(self):\n",
    "        pass\n",
    "    def createPokemon(self):\n",
    "        pass\n",
    "    def showAll(self):\n",
    "        pass\n",
    "    def searchType(self):\n",
    "        pass\n",
    "\n",
    "\n",
    "\n"
   ]
  },
  {
   "cell_type": "code",
   "execution_count": null,
   "id": "15f13837",
   "metadata": {},
   "outputs": [],
   "source": [
    "# Driver Code"
   ]
  },
  {
   "cell_type": "code",
   "execution_count": null,
   "id": "a859144a",
   "metadata": {},
   "outputs": [],
   "source": []
  }
 ],
 "metadata": {
  "interpreter": {
   "hash": "aee8b7b246df8f9039afb4144a1f6fd8d2ca17a180786b69acc140d282b71a49"
  },
  "kernelspec": {
   "display_name": "Python 3",
   "language": "python",
   "name": "python3"
  },
  "language_info": {
   "codemirror_mode": {
    "name": "ipython",
    "version": 3
   },
   "file_extension": ".py",
   "mimetype": "text/x-python",
   "name": "python",
   "nbconvert_exporter": "python",
   "pygments_lexer": "ipython3",
   "version": "3.8.8"
  }
 },
 "nbformat": 4,
 "nbformat_minor": 5
}
